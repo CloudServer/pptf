{
 "metadata": {
  "name": "",
  "signature": "sha256:719d39cbe0f212ad38478515a8eca8386e2b6c1997d5b9bf92be29987f88a136"
 },
 "nbformat": 3,
 "nbformat_minor": 0,
 "worksheets": [
  {
   "cells": [
    {
     "cell_type": "code",
     "collapsed": false,
     "input": [
      "print \"CASE: \"\n",
      "CASE = raw_input()"
     ],
     "language": "python",
     "metadata": {},
     "outputs": []
    },
    {
     "cell_type": "code",
     "collapsed": false,
     "input": [
      "import pandas as pd\n",
      "import numpy as np\n",
      "import matplotlib as mpl\n",
      "import matplotlib.pyplot as plt\n",
      "%matplotlib inline\n",
      "\n",
      "def data_to_wiki(dt):\n",
      "    srow = lambda v, c: \"||%s \" % (c,) + (\" ||%s \" % (c,)).join(v) + \" ||\\n\"\n",
      "    out = srow(dt.columns, \"~\")\n",
      "    for r in dt.values:\n",
      "        out += srow([str(x) for x in r], \"\")\n",
      "    return out\n",
      "\n",
      "def data_to_wiki_ex(dt):\n",
      "    out = \"[[table class=\\\"wiki-content-table\\\"]]\\n\"\n",
      "    out += \"[[row]]\\n\"\n",
      "    for c in dt.columns:\n",
      "        out += \"  [[hcell]]%s[[/hcell]]\\n\" % (c,)\n",
      "    out += \"[[/row]]\\n\"\n",
      "    \n",
      "    for rr in dt.values:\n",
      "        out += \"[[row]]\\n\"\n",
      "        for r in rr:\n",
      "            out += \"  [[cell]]%s[[/cell]]\\n\" % (r,)\n",
      "        out += \"[[/row]]\\n\"\n",
      "    \n",
      "    out += \"[[/table]]\\n\"\n",
      "    return out\n",
      "\n",
      "import sqlite3\n",
      "con = sqlite3.connect(\"output/report-%s.db\" % CASE)\n",
      "\n",
      "cur = con.cursor()\n",
      "meters = [ x[0] for x in cur.execute(\"SELECT DISTINCT meter FROM meter_sessions\").fetchall() if x[0] != u\"NOMETER\" ]"
     ],
     "language": "python",
     "metadata": {},
     "outputs": []
    },
    {
     "cell_type": "heading",
     "level": 2,
     "metadata": {},
     "source": [
      "\"Psychological\" Acceptance"
     ]
    },
    {
     "cell_type": "code",
     "collapsed": false,
     "input": [
      "psy_passwords = \"'CMIYC2010-uncracked', 'phrases-rand39', 'random10', 'random20'\"\n",
      "\n",
      "dt = pd.read_sql(\"SELECT * FROM v_psy_pivot WHERE passwords IN (%s)\" % psy_passwords, con)\n",
      "#print data_to_wiki_ex(dt)\n",
      "dt.plot(kind=\"bar\", stacked=False, x=\"passwords\", y=meters, rot=45)\n",
      "\n",
      "psy_passwords += \", 'CMIYC2010-cracked'\"\n",
      "\n",
      "dt = pd.read_sql(\"SELECT * FROM v_psy_pivot WHERE passwords NOT IN (%s)\" % psy_passwords, con)\n",
      "#print data_to_wiki_ex(dt)\n",
      "dt.plot(kind=\"bar\", stacked=False, x=\"passwords\", y=meters, rot=0)"
     ],
     "language": "python",
     "metadata": {},
     "outputs": []
    },
    {
     "cell_type": "heading",
     "level": 2,
     "metadata": {},
     "source": [
      "Guesses"
     ]
    },
    {
     "cell_type": "code",
     "collapsed": false,
     "input": [
      "passwords = \"'rockyou-all', '1000000yandex2014'\"\n",
      "dt = pd.read_sql(\"SELECT * FROM v_crack_report WHERE dict = 'TOTAL' ORDER BY dict_size\", con)\n",
      "dt.drop('dict', 1, inplace=True)\n",
      "dt.drop('dict_size', 1, inplace=True)\n",
      "print data_to_wiki_ex(dt)"
     ],
     "language": "python",
     "metadata": {},
     "outputs": []
    },
    {
     "cell_type": "code",
     "collapsed": false,
     "input": [
      "passwords = \"'rockyou-all', '1000000yandex2014'\"\n",
      "dt = pd.read_sql(\"SELECT c.passwords AS passwords, c.meter AS meter, avg(success) AS 'avg(guessok)', avg(p.pass_part) AS 'avg(passok)' \"\n",
      "  \"FROM crack_sessions c JOIN v_psychology_abs p ON (c.passwords = p.passwords and c.meter = p.meter) \"\n",
      "  \"WHERE c.dict = 'TOTAL' AND c.passwords = '%s' GROUP BY c.meter\" % (p,), con)\n",
      "\n",
      "dt.plot(kind=\"bar\", stacked=True, x=\"meter\", y=[\"avg(passok)\", \"avg(guessok)\"], color=[\"blue\", \"red\"], rot=0)"
     ],
     "language": "python",
     "metadata": {},
     "outputs": []
    },
    {
     "cell_type": "heading",
     "level": 2,
     "metadata": {},
     "source": [
      "Guessing Percantage"
     ]
    },
    {
     "cell_type": "code",
     "collapsed": false,
     "input": [
      "sql = \"SELECT passwords, meter, success_part FROM v_effectiveness \" \\\n",
      " \"WHERE dict = 'TOTAL' and meter != 'NOMETER' GROUP BY passwords, meter\"\n",
      "\n",
      "dt = pd.read_sql(sql, con)\n",
      "report = dt.pivot(index=\"meter\", columns=\"passwords\", values=\"success_part\")\n",
      "\n",
      "report.plot(kind=\"bar\", table=False, legend=True, y=[\"1000000yandex2014\", \"rockyou-all\"], rot=0)"
     ],
     "language": "python",
     "metadata": {},
     "outputs": []
    },
    {
     "cell_type": "heading",
     "level": 2,
     "metadata": {},
     "source": [
      "Effectiveness of Best Session"
     ]
    },
    {
     "cell_type": "code",
     "collapsed": false,
     "input": [
      "dt = pd.read_sql(\"SELECT 0 AS i, meter, max(dict_to_success) as dict_to_success \"\n",
      "\"FROM v_effectiveness GROUP BY meter\", con)\n",
      "\n",
      "#report = dt.pivot(index=\"i\", columns=\"meter\", values=\"dict_to_success\")\n",
      "#print data_to_wiki_ex(report) \n",
      "dt.plot(kind=\"bar\", logy=True, legend=False, x=\"meter\", y=\"dict_to_success\", linewidth=2, rot=0)"
     ],
     "language": "python",
     "metadata": {},
     "outputs": []
    },
    {
     "cell_type": "heading",
     "level": 2,
     "metadata": {},
     "source": [
      "Effectiveness of Average Session "
     ]
    },
    {
     "cell_type": "code",
     "collapsed": false,
     "input": [
      "pd.options.display.mpl_style = None\n",
      "online_mark = 1000000\n",
      "\n",
      "sql = \"SELECT meter, %s(dict_to_success) as '%s' FROM v_effectiveness WHERE dict_size %s %d GROUP BY meter\"\n",
      "\n",
      "dt1 = pd.read_sql(sql % (\"avg\", \"Dictionary size < 10^6\", \"<=\", online_mark), con)\n",
      "dt2 = pd.read_sql(sql % (\"avg\", \"Dictionary size > 10^6\", \">\", online_mark), con)\n",
      "\n",
      "ax = dt1.plot(kind=\"bar\", logy=log, legend=True, x=\"meter\", edgecolor=\"Red\", color=\"Red\", linewidth=2)\n",
      "dt2.plot(kind=\"bar\", logy=log, legend=True, x=\"meter\", edgecolor=\"DarkBlue\", color=\"DarkBlue\", linewidth=2, rot=0, ax=ax)"
     ],
     "language": "python",
     "metadata": {},
     "outputs": []
    },
    {
     "cell_type": "code",
     "collapsed": false,
     "input": [
      "pd.options.display.mpl_style = None\n",
      "online_mark = 1000000\n",
      "\n",
      "sql = \"SELECT meter, %s(dict_to_success) as '%s' FROM v_effectiveness WHERE dict_size %s %d GROUP BY meter\"\n",
      "\n",
      "dt1 = pd.read_sql(sql % (\"avg\", \"Dictionary size < 10^6\", \"<=\", online_mark), con)\n",
      "dt2 = pd.read_sql(sql % (\"avg\", \"Dictionary size > 10^6\", \">\", online_mark), con)\n",
      "\n",
      "dt = pd.merge(dt1, dt2, on=[\"meter\"])\n",
      "print dt.transpose()\n",
      "print data_to_wiki_ex(dt.transpose())"
     ],
     "language": "python",
     "metadata": {},
     "outputs": []
    },
    {
     "cell_type": "code",
     "collapsed": false,
     "input": [],
     "language": "python",
     "metadata": {},
     "outputs": []
    }
   ],
   "metadata": {}
  }
 ]
}