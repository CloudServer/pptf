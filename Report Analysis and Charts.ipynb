{
 "metadata": {
  "name": "",
  "signature": "sha256:45ceafad822de894fb209f52e12ed1ee697922546924065572964f9541e0b4e9"
 },
 "nbformat": 3,
 "nbformat_minor": 0,
 "worksheets": [
  {
   "cells": [
    {
     "cell_type": "code",
     "collapsed": false,
     "input": [
      "print \"CASE: \"\n",
      "CASE = raw_input()"
     ],
     "language": "python",
     "metadata": {},
     "outputs": []
    },
    {
     "cell_type": "code",
     "collapsed": false,
     "input": [
      "import pandas as pd\n",
      "import numpy as np\n",
      "import matplotlib as mpl\n",
      "import matplotlib.pyplot as plt\n",
      "%matplotlib inline\n",
      "\n",
      "import sqlite3\n",
      "con = sqlite3.connect(\"output/report-%s.db\" % CASE)\n",
      "\n",
      "cur = con.cursor()\n",
      "meters = [ x[0] for x in cur.execute(\"SELECT DISTINCT meter FROM meter_sessions\").fetchall() if x[0] != u\"NOMETER\" ]"
     ],
     "language": "python",
     "metadata": {},
     "outputs": []
    },
    {
     "cell_type": "heading",
     "level": 2,
     "metadata": {},
     "source": [
      "\"Psychological\" Acceptance"
     ]
    },
    {
     "cell_type": "code",
     "collapsed": false,
     "input": [
      "psy_passwords = \"'CMIYC2010-cracked', 'CMIYC2010-uncracked', 'phrases-rand39', 'random10'\"\n",
      "\n",
      "dt1 = pd.read_sql(\"SELECT * FROM v_psy_pivot WHERE passwords IN (%s)\" % psy_passwords, con)\n",
      "dt1.plot(kind=\"bar\", stacked=False, x=\"passwords\", y=meters, rot=45)\n",
      "\n",
      "dt1 = pd.read_sql(\"SELECT * FROM v_psy_pivot WHERE passwords NOT IN (%s)\" % psy_passwords, con)\n",
      "dt1.plot(kind=\"bar\", stacked=False, x=\"passwords\", y=meters, rot=0)"
     ],
     "language": "python",
     "metadata": {},
     "outputs": []
    },
    {
     "cell_type": "heading",
     "level": 2,
     "metadata": {},
     "source": [
      "Guesses"
     ]
    },
    {
     "cell_type": "code",
     "collapsed": false,
     "input": [
      "for p in [\"rockyou-all\", \"1000000yandex2014\"]:\n",
      "    dt = pd.read_sql(\"SELECT c.passwords AS passwords, c.meter AS meter, sum(success) AS guessok, sum(p.pass_part) AS passok \"\n",
      "        \"FROM crack_sessions c JOIN v_psychology_abs p ON (c.passwords = p.passwords and c.meter = p.meter) \"\n",
      "        \"WHERE c.meter != 'NOMETER' AND c.dict = 'TOTAL' AND c.passwords = '%s' GROUP BY c.meter\" % (p,), con)\n",
      "\n",
      "    dt.plot(kind=\"bar\", label=p, stacked=True, x=\"meter\", y=[\"passok\", \"guessok\"], color=[\"blue\", \"red\"], rot=0)"
     ],
     "language": "python",
     "metadata": {},
     "outputs": []
    },
    {
     "cell_type": "heading",
     "level": 2,
     "metadata": {},
     "source": [
      "Guessing Percantage"
     ]
    },
    {
     "cell_type": "code",
     "collapsed": false,
     "input": [
      "sql = \"SELECT passwords, meter, success_part FROM v_effectiveness \" \\\n",
      " \"WHERE meter != 'NOMETER' AND dict = 'TOTAL' GROUP BY passwords, meter\"\n",
      "\n",
      "dt = pd.read_sql(sql, con)\n",
      "report = dt.pivot(index=\"meter\", columns=\"passwords\", values=\"success_part\")\n",
      "\n",
      "report.plot(kind=\"bar\", table=False, legend=True, y=[\"1000000yandex2014\", \"rockyou-all\"], rot=0)"
     ],
     "language": "python",
     "metadata": {},
     "outputs": []
    },
    {
     "cell_type": "heading",
     "level": 2,
     "metadata": {},
     "source": [
      "Effectiveness of Best Session"
     ]
    },
    {
     "cell_type": "code",
     "collapsed": false,
     "input": [
      "pd.options.display.mpl_style = None\n",
      "\n",
      "dt = pd.read_sql(\"SELECT meter, max(dict_to_success) as dict_to_success \"\n",
      "\"FROM v_effectiveness WHERE meter != 'NOMETER' GROUP BY meter\", con)\n",
      "\n",
      "dt.plot(kind=\"bar\", logy=True, legend=False, x=\"meter\", y=\"dict_to_success\", linewidth=2, rot=0)"
     ],
     "language": "python",
     "metadata": {},
     "outputs": []
    },
    {
     "cell_type": "heading",
     "level": 2,
     "metadata": {},
     "source": [
      "Effectiveness of Average Session "
     ]
    },
    {
     "cell_type": "code",
     "collapsed": false,
     "input": [
      "pd.options.display.mpl_style = None\n",
      "\n",
      "online_mark = 5000000\n",
      "sql = \"SELECT meter, avg(dict_to_success) as dict_to_success FROM v_effectiveness WHERE meter != 'NOMETER' AND dict_size %s %d GROUP BY meter\"\n",
      "\n",
      "dt1 = pd.read_sql(sql % (\"<\", online_mark), con)\n",
      "dt2 = pd.read_sql(sql % (\">=\", online_mark), con)\n",
      "\n",
      "ax = dt1.plot(kind=\"bar\", logy=True, legend=False, x=\"meter\", y=\"dict_to_success\", edgecolor=\"Red\", linewidth=2)\n",
      "dt2.plot(kind=\"bar\", logy=True, legend=False, x=\"meter\", y=\"dict_to_success\", edgecolor=\"DarkBlue\", linewidth=2, rot=0, ax=ax)"
     ],
     "language": "python",
     "metadata": {},
     "outputs": []
    },
    {
     "cell_type": "code",
     "collapsed": false,
     "input": [],
     "language": "python",
     "metadata": {},
     "outputs": []
    }
   ],
   "metadata": {}
  }
 ]
}